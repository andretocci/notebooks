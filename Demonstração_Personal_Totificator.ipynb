{
  "nbformat": 4,
  "nbformat_minor": 0,
  "metadata": {
    "colab": {
      "name": "Demonstração Personal Totificator.ipynb",
      "provenance": [],
      "collapsed_sections": [],
      "include_colab_link": true
    },
    "kernelspec": {
      "name": "python3",
      "display_name": "Python 3"
    }
  },
  "cells": [
    {
      "cell_type": "markdown",
      "metadata": {
        "id": "view-in-github",
        "colab_type": "text"
      },
      "source": [
        "<a href=\"https://colab.research.google.com/github/andretocci/notebooks/blob/master/Demonstra%C3%A7%C3%A3o_Personal_Totificator.ipynb\" target=\"_parent\"><img src=\"https://colab.research.google.com/assets/colab-badge.svg\" alt=\"Open In Colab\"/></a>"
      ]
    },
    {
      "cell_type": "markdown",
      "metadata": {
        "id": "yfoaoNm5P8zH",
        "colab_type": "text"
      },
      "source": [
        "# Demonstração Personal Totificator\n",
        "\n",
        "\n"
      ]
    },
    {
      "cell_type": "markdown",
      "metadata": {
        "id": "kT5f8nyYCBpY",
        "colab_type": "text"
      },
      "source": [
        "## Objetivo\n",
        "\n",
        "Personal Totificator possui a finalidade de proporcionar um micro-controle gerencial de acompanhamento de demandas diárias e recorrentes.\n",
        "\n",
        "Ideia é que se você fizer um pouquinho todo dia, no longo prazo isso vai fazer diferença!\n",
        "\n",
        "## Metodologia\n",
        "\n",
        "A inspiração desse projeto surgiu durante esse momento de pandemia e após ler este [post no medium](https://forge.medium.com/ready-to-commit-100-to-your-dreams-here-are-the-10-steps-14e4c01c71ec) (e também por que eu estava cansado de ficar fazendo anotações em blocos de notas que se perdiam das tarefas recorrentes do meu dia).\n",
        "\n",
        "Com isso, consegui re-planejar meus objetivos de médio e longo prazo em tarefas pequenas e recorrentes do meu dia.\n",
        "\n",
        "## Código e Contribuições \n",
        "\n",
        "[GitHub](https://github.com/andretocci/personal_totivator)"
      ]
    },
    {
      "cell_type": "markdown",
      "metadata": {
        "id": "l6B8JGsyGIyz",
        "colab_type": "text"
      },
      "source": [
        "## Demonstração da Classe\n",
        "\n"
      ]
    },
    {
      "cell_type": "markdown",
      "metadata": {
        "id": "qUdUlkuTGQTC",
        "colab_type": "text"
      },
      "source": [
        "### Importando classe do Github"
      ]
    },
    {
      "cell_type": "code",
      "metadata": {
        "id": "yygHo8oJrqXt",
        "colab_type": "code",
        "outputId": "ced6ad83-7570-424e-b8db-2612bb5ec106",
        "colab": {
          "base_uri": "https://localhost:8080/",
          "height": 228
        }
      },
      "source": [
        "!pip install --upgrade --quiet git+https://github.com/andretocci/personal_totivator\n",
        "from personal_totivator import personal_totivator"
      ],
      "execution_count": 0,
      "outputs": [
        {
          "output_type": "stream",
          "text": [
            "\u001b[K     |████████████████████████████████| 81kB 2.2MB/s \n",
            "\u001b[K     |████████████████████████████████| 71kB 5.6MB/s \n",
            "\u001b[K     |████████████████████████████████| 112kB 10.9MB/s \n",
            "\u001b[K     |████████████████████████████████| 61kB 6.0MB/s \n",
            "\u001b[K     |████████████████████████████████| 61kB 6.2MB/s \n",
            "\u001b[?25h  Building wheel for personal-totivator (setup.py) ... \u001b[?25l\u001b[?25hdone\n",
            "  Building wheel for google.colab (setup.py) ... \u001b[?25l\u001b[?25hdone\n",
            "  Building wheel for portpicker (setup.py) ... \u001b[?25l\u001b[?25hdone\n",
            "\u001b[31mERROR: tensorboard 2.2.2 has requirement google-auth<2,>=1.6.3, but you'll have google-auth 1.4.2 which is incompatible.\u001b[0m\n",
            "\u001b[31mERROR: google-colab 1.0.0 has requirement pandas~=0.24.0, but you'll have pandas 1.0.4 which is incompatible.\u001b[0m\n",
            "\u001b[31mERROR: datascience 0.10.6 has requirement folium==0.2.1, but you'll have folium 0.8.3 which is incompatible.\u001b[0m\n"
          ],
          "name": "stdout"
        },
        {
          "output_type": "stream",
          "text": [
            "/usr/local/lib/python3.6/dist-packages/statsmodels/tools/_testing.py:19: FutureWarning: pandas.util.testing is deprecated. Use the functions in the public API at pandas.testing instead.\n",
            "  import pandas.util.testing as tm\n"
          ],
          "name": "stderr"
        }
      ]
    },
    {
      "cell_type": "markdown",
      "metadata": {
        "id": "3nSJ2JRZVjMv",
        "colab_type": "text"
      },
      "source": [
        "### Criando o Objeto inicial e Cadastrando Primeiras Atividades"
      ]
    },
    {
      "cell_type": "code",
      "metadata": {
        "id": "roHd3BaUHNSd",
        "colab_type": "code",
        "outputId": "6bfaaa41-bc44-4f42-9a02-3d3096bf7cef",
        "colab": {
          "base_uri": "https://localhost:8080/",
          "height": 588
        }
      },
      "source": [
        "meu_tf = personal_totivator()\n",
        "meu_tf.plot_metas()"
      ],
      "execution_count": 0,
      "outputs": [
        {
          "output_type": "stream",
          "text": [
            "#########################################\n",
            " ## Bem vindo ao seu personal totivator ##\n",
            "#########################################\n",
            ">>> Hoje é dia 2020-06-03 \n",
            "\n",
            "\n",
            "### Quantas atividades gostaria de cadastrar? \n",
            "2\n",
            " \n",
            "### Agora me fala quais são essas atividades?\n",
            "\n",
            ">>> Qual seria a atividade número 1? \n",
            "Ler\n",
            ">>> E quanto tempo(em minutos) por pretende atuar nela diáriamente? \n",
            "60\n",
            ">>> Qual seria a atividade número 2? \n",
            "Estudar\n",
            ">>> E quanto tempo(em minutos) por pretende atuar nela diáriamente? \n",
            "90\n"
          ],
          "name": "stdout"
        },
        {
          "output_type": "display_data",
          "data": {
            "image/png": "[encoded data removed]",
            "text/plain": [
              "<Figure size 1584x288 with 1 Axes>"
            ]
          },
          "metadata": {
            "tags": [],
            "needs_background": "light"
          }
        }
      ]
    },
    {
      "cell_type": "markdown",
      "metadata": {
        "id": "0Lnr-97aA11R",
        "colab_type": "text"
      },
      "source": [
        "### Atributos do objeto Tottificator"
      ]
    },
    {
      "cell_type": "code",
      "metadata": {
        "id": "8BYoeaQBA55x",
        "colab_type": "code",
        "outputId": "57b30304-e2af-423c-f92d-8078d14c6085",
        "colab": {
          "base_uri": "https://localhost:8080/",
          "height": 33
        }
      },
      "source": [
        "meu_tf.__dict__.keys()"
      ],
      "execution_count": 0,
      "outputs": [
        {
          "output_type": "execute_result",
          "data": {
            "text/plain": [
              "dict_keys(['today', 'drive_path', 'drive_filename', 'minhas_atividades', 'log_atividades', 'color_palette', 'atividades_arquivadas'])"
            ]
          },
          "metadata": {
            "tags": []
          },
          "execution_count": 4
        }
      ]
    },
    {
      "cell_type": "markdown",
      "metadata": {
        "id": "7f3IdVhQWc8Q",
        "colab_type": "text"
      },
      "source": [
        "### Cadastrar Log de Atividades Realizadas no dia de Hoje"
      ]
    },
    {
      "cell_type": "code",
      "metadata": {
        "id": "CvwBFnVRWjuT",
        "colab_type": "code",
        "outputId": "8f669726-896d-4ae4-8e6d-058bf6338cd0",
        "colab": {
          "base_uri": "https://localhost:8080/",
          "height": 33
        }
      },
      "source": [
        "meu_tf.cadastrar_log()"
      ],
      "execution_count": 0,
      "outputs": [
        {
          "output_type": "execute_result",
          "data": {
            "text/plain": [
              "{'2020-06-03': {'Estudar': 55.0, 'Ler': 55.0}}"
            ]
          },
          "metadata": {
            "tags": []
          },
          "execution_count": 7
        }
      ]
    },
    {
      "cell_type": "markdown",
      "metadata": {
        "id": "zKVhnjnvDLmI",
        "colab_type": "text"
      },
      "source": [
        "#### Acessando log de atividades\n",
        "Caso queira corrigir um cadastro errado ou adicionar dados retroativos, você pode atribuílos no .log_atividades mantendo a estrutura."
      ]
    },
    {
      "cell_type": "code",
      "metadata": {
        "id": "CrE37-2tDQXl",
        "colab_type": "code",
        "colab": {}
      },
      "source": [
        "meu_tf.log_atividades = {'2020-06-01': {'Estudar': 15.0, 'Ler': 5.0}, \n",
        "                         '2020-06-02': {'Estudar': 20.0, 'Ler': 15.0}, \n",
        "                         '2020-06-04': {'Estudar': 10.0, 'Ler': 5.0}, \n",
        "                         '2020-06-05': {'Estudar': 0.0, 'Ler': 15.0}, \n",
        "                         '2020-06-06': {'Estudar': 25.0, 'Ler': 5.0}, \n",
        "                         '2020-06-07': {'Estudar': 10.0, 'Ler': 15.0}, \n",
        "                         '2020-06-08': {'Estudar': 15.0, 'Ler': 0.0}, \n",
        "                         '2020-06-09': {'Estudar': 15.0, 'Ler': 15.0}}"
      ],
      "execution_count": 0,
      "outputs": []
    },
    {
      "cell_type": "markdown",
      "metadata": {
        "id": "0bOSGPmTDeEg",
        "colab_type": "text"
      },
      "source": [
        "#### Plot do Log de Atividades\n",
        "\n",
        "Ele fica mais bonito quanto mais dias você cadastra suas atividades, então bora cadastrar!"
      ]
    },
    {
      "cell_type": "code",
      "metadata": {
        "id": "JDDqcxavHEn_",
        "colab_type": "code",
        "outputId": "410a01b6-1d96-41a1-8aae-34f327064ed3",
        "colab": {
          "base_uri": "https://localhost:8080/",
          "height": 512
        }
      },
      "source": [
        "meu_tf.plot_log_atividades(fill_missing_days=False)"
      ],
      "execution_count": 0,
      "outputs": [
        {
          "output_type": "display_data",
          "data": {
            "image/png": "[encoded data removed]",
            "text/plain": [
              "<Figure size 792x504 with 2 Axes>"
            ]
          },
          "metadata": {
            "tags": [],
            "needs_background": "light"
          }
        }
      ]
    },
    {
      "cell_type": "markdown",
      "metadata": {
        "id": "t-i75VZRCBo3",
        "colab_type": "text"
      },
      "source": [
        "## Salvando resultados"
      ]
    },
    {
      "cell_type": "code",
      "metadata": {
        "id": "Yeq1S_Z3CD1z",
        "colab_type": "code",
        "outputId": "8e09a156-fff9-4c5a-acc1-d32f7ccb5a80",
        "colab": {
          "base_uri": "https://localhost:8080/",
          "height": 33
        }
      },
      "source": [
        "meu_tf.drive_path = '/content/drive/My Drive/YO/Projetos/Planejamento/Pessoal/'\n",
        "meu_tf.drive_filename = 'demonstracao_tottificator'\n",
        "meu_tf.save_results()"
      ],
      "execution_count": 0,
      "outputs": [
        {
          "output_type": "stream",
          "text": [
            "Drive already mounted at /content/drive; to attempt to forcibly remount, call drive.mount(\"/content/drive\", force_remount=True).\n"
          ],
          "name": "stdout"
        }
      ]
    },
    {
      "cell_type": "markdown",
      "metadata": {
        "id": "Wg9BNjCdSx6F",
        "colab_type": "text"
      },
      "source": [
        "## Lendo arquivo salvo no Drive\n",
        "Agora que já cadastrei minhas metas e salvei meus resultados, é possivel ler o arquivo diretamente do Google Drive."
      ]
    },
    {
      "cell_type": "code",
      "metadata": {
        "id": "cISJoRXdVde4",
        "colab_type": "code",
        "outputId": "f9befa8a-c804-42ca-aa20-44e36e62d098",
        "colab": {
          "base_uri": "https://localhost:8080/",
          "height": 131
        }
      },
      "source": [
        "meu_tf = personal_totivator(read_from_drive = True,\n",
        "                            drive_path = '/content/drive/My Drive/YO/Projetos/Planejamento/Pessoal/',\n",
        "                            drive_filename = 'demonstracao_tottificator')"
      ],
      "execution_count": 0,
      "outputs": [
        {
          "output_type": "stream",
          "text": [
            "####################################\n",
            " Bem vindo ao seu personal totivator \n",
            "####################################\n",
            "Hoje é dia 2020-06-01 \n",
            "\n",
            "\n",
            "Drive already mounted at /content/drive; to attempt to forcibly remount, call drive.mount(\"/content/drive\", force_remount=True).\n"
          ],
          "name": "stdout"
        }
      ]
    },
    {
      "cell_type": "code",
      "metadata": {
        "id": "u_Qvp5k4qo3f",
        "colab_type": "code",
        "colab": {}
      },
      "source": [
        "personal_t3 = personal_totivator(read_from_drive = True,\n",
        "                                drive_path = '/content/drive/My Drive/YO/Projetos/Planejamento/Pessoal/',\n",
        "                                drive_filename = 'minhas_atividades')\n",
        "\n",
        "personal_t3.arquivar_atividades('dvf')\n",
        "personal_t3.cadastrar_log()\n",
        "\n",
        "personal_t3.save_results()\n",
        "personal_t3.plot_log_atividades()"
      ],
      "execution_count": 0,
      "outputs": []
    }
  ]
}