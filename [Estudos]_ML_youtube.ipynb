{
  "nbformat": 4,
  "nbformat_minor": 0,
  "metadata": {
    "colab": {
      "name": "[Estudos] ML - youtube.ipynb",
      "provenance": [],
      "authorship_tag": "ABX9TyOPbIEWooR+MLAX4eWn20jN",
      "include_colab_link": true
    },
    "kernelspec": {
      "name": "python3",
      "display_name": "Python 3"
    }
  },
  "cells": [
    {
      "cell_type": "markdown",
      "metadata": {
        "id": "view-in-github",
        "colab_type": "text"
      },
      "source": [
        "<a href=\"https://colab.research.google.com/github/andretocci/notebooks/blob/master/%5BEstudos%5D_ML_youtube.ipynb\" target=\"_parent\"><img src=\"https://colab.research.google.com/assets/colab-badge.svg\" alt=\"Open In Colab\"/></a>"
      ]
    },
    {
      "cell_type": "markdown",
      "metadata": {
        "id": "29_xkP6PAYMF",
        "colab_type": "text"
      },
      "source": [
        "# Estudos ML\n",
        "\n",
        "- [Link do curso](https://www.youtube.com/playlist?list=PLQVvvaa0QuDfKTOs3Keq_kaG2P55YRn5v)"
      ]
    },
    {
      "cell_type": "markdown",
      "metadata": {
        "id": "TacAbfFEAjL8",
        "colab_type": "text"
      },
      "source": [
        "## Regression Features and Labels - Practical Machine Learning Tutorial with Python"
      ]
    },
    {
      "cell_type": "code",
      "metadata": {
        "id": "y1tnLr4CAWTt",
        "colab_type": "code",
        "colab": {}
      },
      "source": [
        "import pandas as pd\n",
        "!setup.py install\n",
        "!pip install quandl\n",
        "import quandl, math\n",
        "import numpy as np\n",
        "from sklearn import preprocessing, svm\n",
        "from sklearn.model_selection import train_test_split\n",
        "from sklearn.linear_model import LinearRegression\n",
        "\n",
        "\n",
        "# from pydrive.drive import GoogleDrive\n",
        "# from google.colab import auth\n",
        "# auth.authenticate_user()\n",
        "from google.colab import drive"
      ],
      "execution_count": 0,
      "outputs": []
    },
    {
      "cell_type": "code",
      "metadata": {
        "id": "aVUz3Az7Ch44",
        "colab_type": "code",
        "colab": {}
      },
      "source": [
        "# df = quandl.get('WIKI/GOOGL')\n",
        "\n",
        "\n",
        "drive.mount('/content/drive/')\n",
        "filepath = '/content/drive/My Drive/YO/Projetos/Estudos ML/df_fin_regress.csv'\n",
        "# df.to_csv(filepath)\n",
        "\n",
        "df = pd.read_csv(filepath)\n",
        "df.head()"
      ],
      "execution_count": 0,
      "outputs": []
    },
    {
      "cell_type": "code",
      "metadata": {
        "id": "gnoY4ypFcZ2C",
        "colab_type": "code",
        "outputId": "df49cc1a-9d7f-4431-9a50-ca1c1e2b7038",
        "colab": {
          "base_uri": "https://localhost:8080/",
          "height": 191
        }
      },
      "source": [
        "df = df[['Adj. Open', 'Adj. High', 'Adj. Low', 'Adj. Close', 'Adj. Volume']]\n",
        "df['HL_PCT'] = (df['Adj. High'] - df['Adj. Close'] )/ df['Adj. Close'] * 100 \n",
        "df['PCT_change'] = (df['Adj. Close'] - df['Adj. Open'] )/ df['Adj. Open'] * 100 \n",
        "df = df[['Adj. Close', 'HL_PCT', 'PCT_change', 'Adj. Volume']]\n",
        "df.head()"
      ],
      "execution_count": 0,
      "outputs": [
        {
          "output_type": "execute_result",
          "data": {
            "text/html": [
              "<div>\n",
              "<style scoped>\n",
              "    .dataframe tbody tr th:only-of-type {\n",
              "        vertical-align: middle;\n",
              "    }\n",
              "\n",
              "    .dataframe tbody tr th {\n",
              "        vertical-align: top;\n",
              "    }\n",
              "\n",
              "    .dataframe thead th {\n",
              "        text-align: right;\n",
              "    }\n",
              "</style>\n",
              "<table border=\"1\" class=\"dataframe\">\n",
              "  <thead>\n",
              "    <tr style=\"text-align: right;\">\n",
              "      <th></th>\n",
              "      <th>Adj. Close</th>\n",
              "      <th>HL_PCT</th>\n",
              "      <th>PCT_change</th>\n",
              "      <th>Adj. Volume</th>\n",
              "    </tr>\n",
              "  </thead>\n",
              "  <tbody>\n",
              "    <tr>\n",
              "      <th>0</th>\n",
              "      <td>50.322842</td>\n",
              "      <td>3.712563</td>\n",
              "      <td>0.324968</td>\n",
              "      <td>44659000.0</td>\n",
              "    </tr>\n",
              "    <tr>\n",
              "      <th>1</th>\n",
              "      <td>54.322689</td>\n",
              "      <td>0.710922</td>\n",
              "      <td>7.227007</td>\n",
              "      <td>22834300.0</td>\n",
              "    </tr>\n",
              "    <tr>\n",
              "      <th>2</th>\n",
              "      <td>54.869377</td>\n",
              "      <td>3.729433</td>\n",
              "      <td>-1.227880</td>\n",
              "      <td>18256100.0</td>\n",
              "    </tr>\n",
              "    <tr>\n",
              "      <th>3</th>\n",
              "      <td>52.597363</td>\n",
              "      <td>6.417469</td>\n",
              "      <td>-5.726357</td>\n",
              "      <td>15247300.0</td>\n",
              "    </tr>\n",
              "    <tr>\n",
              "      <th>4</th>\n",
              "      <td>53.164113</td>\n",
              "      <td>1.886792</td>\n",
              "      <td>1.183658</td>\n",
              "      <td>9188600.0</td>\n",
              "    </tr>\n",
              "  </tbody>\n",
              "</table>\n",
              "</div>"
            ],
            "text/plain": [
              "   Adj. Close    HL_PCT  PCT_change  Adj. Volume\n",
              "0   50.322842  3.712563    0.324968   44659000.0\n",
              "1   54.322689  0.710922    7.227007   22834300.0\n",
              "2   54.869377  3.729433   -1.227880   18256100.0\n",
              "3   52.597363  6.417469   -5.726357   15247300.0\n",
              "4   53.164113  1.886792    1.183658    9188600.0"
            ]
          },
          "metadata": {
            "tags": []
          },
          "execution_count": 16
        }
      ]
    },
    {
      "cell_type": "markdown",
      "metadata": {
        "id": "PshjmL0yhRku",
        "colab_type": "text"
      },
      "source": [
        "### Regression Features and Labels - Practical Machine Learning Tutorial with Python p.3"
      ]
    },
    {
      "cell_type": "code",
      "metadata": {
        "id": "quTOg_TKeamw",
        "colab_type": "code",
        "outputId": "c0e4291c-bc52-48ef-e022-f17b196f5714",
        "colab": {
          "base_uri": "https://localhost:8080/",
          "height": 191
        }
      },
      "source": [
        "forecast_col = 'Adj. Close'\n",
        "df.fillna(-999999, inplace=True)#Tratando NA como um outlier ao invés de retirar os valors\n",
        "\n",
        "forecast_out = int(math.ceil(0.01*len(df)))#definindo o periodo que será previsto no futuro em 10% da len do df\n",
        "\n",
        "df['label'] = df[forecast_col].shift(-forecast_out)\n",
        "\n",
        "df.dropna(inplace=True)\n",
        "df.head()"
      ],
      "execution_count": 0,
      "outputs": [
        {
          "output_type": "execute_result",
          "data": {
            "text/html": [
              "<div>\n",
              "<style scoped>\n",
              "    .dataframe tbody tr th:only-of-type {\n",
              "        vertical-align: middle;\n",
              "    }\n",
              "\n",
              "    .dataframe tbody tr th {\n",
              "        vertical-align: top;\n",
              "    }\n",
              "\n",
              "    .dataframe thead th {\n",
              "        text-align: right;\n",
              "    }\n",
              "</style>\n",
              "<table border=\"1\" class=\"dataframe\">\n",
              "  <thead>\n",
              "    <tr style=\"text-align: right;\">\n",
              "      <th></th>\n",
              "      <th>Adj. Close</th>\n",
              "      <th>HL_PCT</th>\n",
              "      <th>PCT_change</th>\n",
              "      <th>Adj. Volume</th>\n",
              "      <th>label</th>\n",
              "    </tr>\n",
              "  </thead>\n",
              "  <tbody>\n",
              "    <tr>\n",
              "      <th>0</th>\n",
              "      <td>50.322842</td>\n",
              "      <td>3.712563</td>\n",
              "      <td>0.324968</td>\n",
              "      <td>44659000.0</td>\n",
              "      <td>69.078238</td>\n",
              "    </tr>\n",
              "    <tr>\n",
              "      <th>1</th>\n",
              "      <td>54.322689</td>\n",
              "      <td>0.710922</td>\n",
              "      <td>7.227007</td>\n",
              "      <td>22834300.0</td>\n",
              "      <td>67.839414</td>\n",
              "    </tr>\n",
              "    <tr>\n",
              "      <th>2</th>\n",
              "      <td>54.869377</td>\n",
              "      <td>3.729433</td>\n",
              "      <td>-1.227880</td>\n",
              "      <td>18256100.0</td>\n",
              "      <td>68.912727</td>\n",
              "    </tr>\n",
              "    <tr>\n",
              "      <th>3</th>\n",
              "      <td>52.597363</td>\n",
              "      <td>6.417469</td>\n",
              "      <td>-5.726357</td>\n",
              "      <td>15247300.0</td>\n",
              "      <td>70.668146</td>\n",
              "    </tr>\n",
              "    <tr>\n",
              "      <th>4</th>\n",
              "      <td>53.164113</td>\n",
              "      <td>1.886792</td>\n",
              "      <td>1.183658</td>\n",
              "      <td>9188600.0</td>\n",
              "      <td>71.219849</td>\n",
              "    </tr>\n",
              "  </tbody>\n",
              "</table>\n",
              "</div>"
            ],
            "text/plain": [
              "   Adj. Close    HL_PCT  PCT_change  Adj. Volume      label\n",
              "0   50.322842  3.712563    0.324968   44659000.0  69.078238\n",
              "1   54.322689  0.710922    7.227007   22834300.0  67.839414\n",
              "2   54.869377  3.729433   -1.227880   18256100.0  68.912727\n",
              "3   52.597363  6.417469   -5.726357   15247300.0  70.668146\n",
              "4   53.164113  1.886792    1.183658    9188600.0  71.219849"
            ]
          },
          "metadata": {
            "tags": []
          },
          "execution_count": 17
        }
      ]
    },
    {
      "cell_type": "markdown",
      "metadata": {
        "id": "KPaxMxE1mlTd",
        "colab_type": "text"
      },
      "source": [
        "### Regression Features and Labels - Practical Machine Learning Tutorial with Python p.4"
      ]
    },
    {
      "cell_type": "code",
      "metadata": {
        "id": "9dd9iSmymkon",
        "colab_type": "code",
        "outputId": "cfc7d8bb-d4f4-44c6-fca3-bf6113adb523",
        "colab": {
          "base_uri": "https://localhost:8080/",
          "height": 361
        }
      },
      "source": [
        "x = np.array(df.drop(['label'], 1))\n",
        "y = np.array(df['label'])\n",
        "\n",
        "x = preprocessing.scale(x) #Valores precisam ser normalizados com o seus dados de treino\n",
        "x = x[:-forecast_out+1]\n",
        "df.dropna(inplace=True)\n",
        "y = np.array(df['label'])\n",
        "\n",
        "x_train, x_test, y_train, y_test = train_test_split(x, y, test_size=0.2)\n",
        "\n",
        "clf = LinearRegression()\n",
        "clf.fit(x_train, y_train)\n",
        "accouracy = clf.score(x_test, y_test)\n",
        "print('accouracy,', accouracy)\n",
        "\n",
        "#Vamos falar sobre esse algoritimo no futuro\n",
        "clf = svm.SVR(kernel='poly') #testando um novo algoritimo # kernel='poly' opicional\n",
        "clf.fit(x_train, y_train)\n",
        "accouracy = clf.score(x_test, y_test)\n",
        "print('accouracy svm,', accouracy)"
      ],
      "execution_count": 0,
      "outputs": [
        {
          "output_type": "error",
          "ename": "ValueError",
          "evalue": "ignored",
          "traceback": [
            "\u001b[0;31m---------------------------------------------------------------------------\u001b[0m",
            "\u001b[0;31mValueError\u001b[0m                                Traceback (most recent call last)",
            "\u001b[0;32m<ipython-input-20-8c5c958ca47c>\u001b[0m in \u001b[0;36m<module>\u001b[0;34m()\u001b[0m\n\u001b[1;32m      7\u001b[0m \u001b[0my\u001b[0m \u001b[0;34m=\u001b[0m \u001b[0mnp\u001b[0m\u001b[0;34m.\u001b[0m\u001b[0marray\u001b[0m\u001b[0;34m(\u001b[0m\u001b[0mdf\u001b[0m\u001b[0;34m[\u001b[0m\u001b[0;34m'label'\u001b[0m\u001b[0;34m]\u001b[0m\u001b[0;34m)\u001b[0m\u001b[0;34m\u001b[0m\u001b[0;34m\u001b[0m\u001b[0m\n\u001b[1;32m      8\u001b[0m \u001b[0;34m\u001b[0m\u001b[0m\n\u001b[0;32m----> 9\u001b[0;31m \u001b[0mx_train\u001b[0m\u001b[0;34m,\u001b[0m \u001b[0mx_test\u001b[0m\u001b[0;34m,\u001b[0m \u001b[0my_train\u001b[0m\u001b[0;34m,\u001b[0m \u001b[0my_test\u001b[0m \u001b[0;34m=\u001b[0m \u001b[0mtrain_test_split\u001b[0m\u001b[0;34m(\u001b[0m\u001b[0mx\u001b[0m\u001b[0;34m,\u001b[0m \u001b[0my\u001b[0m\u001b[0;34m,\u001b[0m \u001b[0mtest_size\u001b[0m\u001b[0;34m=\u001b[0m\u001b[0;36m0.2\u001b[0m\u001b[0;34m)\u001b[0m\u001b[0;34m\u001b[0m\u001b[0;34m\u001b[0m\u001b[0m\n\u001b[0m\u001b[1;32m     10\u001b[0m \u001b[0;34m\u001b[0m\u001b[0m\n\u001b[1;32m     11\u001b[0m \u001b[0mclf\u001b[0m \u001b[0;34m=\u001b[0m \u001b[0mLinearRegression\u001b[0m\u001b[0;34m(\u001b[0m\u001b[0;34m)\u001b[0m\u001b[0;34m\u001b[0m\u001b[0;34m\u001b[0m\u001b[0m\n",
            "\u001b[0;32m/usr/local/lib/python3.6/dist-packages/sklearn/model_selection/_split.py\u001b[0m in \u001b[0;36mtrain_test_split\u001b[0;34m(*arrays, **options)\u001b[0m\n\u001b[1;32m   2116\u001b[0m         \u001b[0;32mraise\u001b[0m \u001b[0mTypeError\u001b[0m\u001b[0;34m(\u001b[0m\u001b[0;34m\"Invalid parameters passed: %s\"\u001b[0m \u001b[0;34m%\u001b[0m \u001b[0mstr\u001b[0m\u001b[0;34m(\u001b[0m\u001b[0moptions\u001b[0m\u001b[0;34m)\u001b[0m\u001b[0;34m)\u001b[0m\u001b[0;34m\u001b[0m\u001b[0;34m\u001b[0m\u001b[0m\n\u001b[1;32m   2117\u001b[0m \u001b[0;34m\u001b[0m\u001b[0m\n\u001b[0;32m-> 2118\u001b[0;31m     \u001b[0marrays\u001b[0m \u001b[0;34m=\u001b[0m \u001b[0mindexable\u001b[0m\u001b[0;34m(\u001b[0m\u001b[0;34m*\u001b[0m\u001b[0marrays\u001b[0m\u001b[0;34m)\u001b[0m\u001b[0;34m\u001b[0m\u001b[0;34m\u001b[0m\u001b[0m\n\u001b[0m\u001b[1;32m   2119\u001b[0m \u001b[0;34m\u001b[0m\u001b[0m\n\u001b[1;32m   2120\u001b[0m     \u001b[0mn_samples\u001b[0m \u001b[0;34m=\u001b[0m \u001b[0m_num_samples\u001b[0m\u001b[0;34m(\u001b[0m\u001b[0marrays\u001b[0m\u001b[0;34m[\u001b[0m\u001b[0;36m0\u001b[0m\u001b[0;34m]\u001b[0m\u001b[0;34m)\u001b[0m\u001b[0;34m\u001b[0m\u001b[0;34m\u001b[0m\u001b[0m\n",
            "\u001b[0;32m/usr/local/lib/python3.6/dist-packages/sklearn/utils/validation.py\u001b[0m in \u001b[0;36mindexable\u001b[0;34m(*iterables)\u001b[0m\n\u001b[1;32m    246\u001b[0m     \"\"\"\n\u001b[1;32m    247\u001b[0m     \u001b[0mresult\u001b[0m \u001b[0;34m=\u001b[0m \u001b[0;34m[\u001b[0m\u001b[0m_make_indexable\u001b[0m\u001b[0;34m(\u001b[0m\u001b[0mX\u001b[0m\u001b[0;34m)\u001b[0m \u001b[0;32mfor\u001b[0m \u001b[0mX\u001b[0m \u001b[0;32min\u001b[0m \u001b[0miterables\u001b[0m\u001b[0;34m]\u001b[0m\u001b[0;34m\u001b[0m\u001b[0;34m\u001b[0m\u001b[0m\n\u001b[0;32m--> 248\u001b[0;31m     \u001b[0mcheck_consistent_length\u001b[0m\u001b[0;34m(\u001b[0m\u001b[0;34m*\u001b[0m\u001b[0mresult\u001b[0m\u001b[0;34m)\u001b[0m\u001b[0;34m\u001b[0m\u001b[0;34m\u001b[0m\u001b[0m\n\u001b[0m\u001b[1;32m    249\u001b[0m     \u001b[0;32mreturn\u001b[0m \u001b[0mresult\u001b[0m\u001b[0;34m\u001b[0m\u001b[0;34m\u001b[0m\u001b[0m\n\u001b[1;32m    250\u001b[0m \u001b[0;34m\u001b[0m\u001b[0m\n",
            "\u001b[0;32m/usr/local/lib/python3.6/dist-packages/sklearn/utils/validation.py\u001b[0m in \u001b[0;36mcheck_consistent_length\u001b[0;34m(*arrays)\u001b[0m\n\u001b[1;32m    210\u001b[0m     \u001b[0;32mif\u001b[0m \u001b[0mlen\u001b[0m\u001b[0;34m(\u001b[0m\u001b[0muniques\u001b[0m\u001b[0;34m)\u001b[0m \u001b[0;34m>\u001b[0m \u001b[0;36m1\u001b[0m\u001b[0;34m:\u001b[0m\u001b[0;34m\u001b[0m\u001b[0;34m\u001b[0m\u001b[0m\n\u001b[1;32m    211\u001b[0m         raise ValueError(\"Found input variables with inconsistent numbers of\"\n\u001b[0;32m--> 212\u001b[0;31m                          \" samples: %r\" % [int(l) for l in lengths])\n\u001b[0m\u001b[1;32m    213\u001b[0m \u001b[0;34m\u001b[0m\u001b[0m\n\u001b[1;32m    214\u001b[0m \u001b[0;34m\u001b[0m\u001b[0m\n",
            "\u001b[0;31mValueError\u001b[0m: Found input variables with inconsistent numbers of samples: [3355, 3389]"
          ]
        }
      ]
    }
  ]
}