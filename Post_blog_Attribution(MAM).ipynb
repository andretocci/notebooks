{
  "nbformat": 4,
  "nbformat_minor": 0,
  "metadata": {
    "colab": {
      "name": "Post_blog_Attribution(MAM).ipynb",
      "provenance": [],
      "collapsed_sections": [
        "3-dC9Tjg7Y3F",
        "5jph_mBG8m6P"
      ],
      "toc_visible": true,
      "machine_shape": "hm",
      "include_colab_link": true
    },
    "kernelspec": {
      "name": "python3",
      "display_name": "Python 3"
    }
  },
  "cells": [
    {
      "cell_type": "markdown",
      "metadata": {
        "id": "view-in-github",
        "colab_type": "text"
      },
      "source": [
        "<a href=\"https://colab.research.google.com/github/andretocci/notebooks/blob/master/Post_blog_Attribution(MAM).ipynb\" target=\"_parent\"><img src=\"https://colab.research.google.com/assets/colab-badge.svg\" alt=\"Open In Colab\"/></a>"
      ]
    },
    {
      "cell_type": "markdown",
      "metadata": {
        "id": "5jph_mBG8m6P",
        "colab_type": "text"
      },
      "source": [
        "## Demostração Blog DP6"
      ]
    },
    {
      "cell_type": "markdown",
      "metadata": {
        "id": "QMi0dcAd0ldr",
        "colab_type": "text"
      },
      "source": [
        "Importando pacotes necessários:"
      ]
    },
    {
      "cell_type": "code",
      "metadata": {
        "id": "cQJ60vzE0Zpm",
        "colab_type": "code",
        "colab": {}
      },
      "source": [
        "import pandas as pd\n",
        "import numpy as np\n",
        "import matplotlib.pyplot as plt\n",
        "import seaborn as sns\n",
        "\n",
        "!pip install marketing_attribution_models\n",
        "from marketing_attribution_models import MAM"
      ],
      "execution_count": 0,
      "outputs": []
    },
    {
      "cell_type": "code",
      "metadata": {
        "id": "FGbIY8K2x81F",
        "colab_type": "code",
        "cellView": "form",
        "colab": {}
      },
      "source": [
        "#@title Importando e Tratando as Bases\n",
        "import glob\n",
        "from google.colab import drive\n",
        "drive.mount('/content/drive/')\n",
        "\n",
        "filepath = '/content/drive/Shared drives/Data Science/Ultron/Recipes/DP6tribution/'\n",
        "filename = '*'\n",
        "all_files = glob.glob(filepath + filename)\n",
        "pd.set_option('display.float_format', lambda x: '%.3f' % x)"
      ],
      "execution_count": 0,
      "outputs": []
    },
    {
      "cell_type": "markdown",
      "metadata": {
        "id": "3wFNrzbniHdx",
        "colab_type": "text"
      },
      "source": [
        "Para está demonstração, optamos por demonstrar utilizando uma base de dados bastante conhecida pelos profissionais do Marketing: Google Merchandise Store. Está base foi extraída da conta de demonstração do Google Analytics, que pode ser acessada por qualquer usuário do Google."
      ]
    },
    {
      "cell_type": "code",
      "metadata": {
        "id": "7KF3LATxhecU",
        "colab_type": "code",
        "outputId": "bf282e4e-26e9-4abe-b2c6-d3f6f2146002",
        "colab": {
          "base_uri": "https://localhost:8080/",
          "height": 191
        }
      },
      "source": [
        "#Lendo os dados do Google Merchandise Store, mas selecioanndo apenas as colunas que serão utilizadas para gerar os modelos\n",
        "df = pd.read_csv(all_files[0], \n",
        "                 usecols=['channelGrouping', \n",
        "                          'date', \n",
        "                          'fullVisitorId', \n",
        "                          'totals_transactions', \n",
        "                          'totals_transactionRevenue'],\n",
        "                 dtype = {'channelGrouping':str, \n",
        "                          'fullVisitorId':str, \n",
        "                          'totals_transactions' : np.float64, \n",
        "                          'totals_transactionRevenue' : np.float64} )\n",
        "\n",
        "#Analizando o DF retornado\n",
        "df.head()"
      ],
      "execution_count": 0,
      "outputs": [
        {
          "output_type": "execute_result",
          "data": {
            "text/html": [
              "<div>\n",
              "<style scoped>\n",
              "    .dataframe tbody tr th:only-of-type {\n",
              "        vertical-align: middle;\n",
              "    }\n",
              "\n",
              "    .dataframe tbody tr th {\n",
              "        vertical-align: top;\n",
              "    }\n",
              "\n",
              "    .dataframe thead th {\n",
              "        text-align: right;\n",
              "    }\n",
              "</style>\n",
              "<table border=\"1\" class=\"dataframe\">\n",
              "  <thead>\n",
              "    <tr style=\"text-align: right;\">\n",
              "      <th></th>\n",
              "      <th>channelGrouping</th>\n",
              "      <th>date</th>\n",
              "      <th>fullVisitorId</th>\n",
              "      <th>totals_transactions</th>\n",
              "      <th>totals_transactionRevenue</th>\n",
              "    </tr>\n",
              "  </thead>\n",
              "  <tbody>\n",
              "    <tr>\n",
              "      <th>0</th>\n",
              "      <td>Organic Search</td>\n",
              "      <td>20171016</td>\n",
              "      <td>579247845938461901</td>\n",
              "      <td>nan</td>\n",
              "      <td>nan</td>\n",
              "    </tr>\n",
              "    <tr>\n",
              "      <th>1</th>\n",
              "      <td>Organic Search</td>\n",
              "      <td>20171016</td>\n",
              "      <td>875141984250977091</td>\n",
              "      <td>nan</td>\n",
              "      <td>nan</td>\n",
              "    </tr>\n",
              "    <tr>\n",
              "      <th>2</th>\n",
              "      <td>Organic Search</td>\n",
              "      <td>20171016</td>\n",
              "      <td>953429090981710815</td>\n",
              "      <td>nan</td>\n",
              "      <td>nan</td>\n",
              "    </tr>\n",
              "    <tr>\n",
              "      <th>3</th>\n",
              "      <td>Organic Search</td>\n",
              "      <td>20171016</td>\n",
              "      <td>2365540140634612791</td>\n",
              "      <td>nan</td>\n",
              "      <td>nan</td>\n",
              "    </tr>\n",
              "    <tr>\n",
              "      <th>4</th>\n",
              "      <td>Organic Search</td>\n",
              "      <td>20171016</td>\n",
              "      <td>8585866264807101623</td>\n",
              "      <td>nan</td>\n",
              "      <td>nan</td>\n",
              "    </tr>\n",
              "  </tbody>\n",
              "</table>\n",
              "</div>"
            ],
            "text/plain": [
              "  channelGrouping      date  ... totals_transactions  totals_transactionRevenue\n",
              "0  Organic Search  20171016  ...                 nan                        nan\n",
              "1  Organic Search  20171016  ...                 nan                        nan\n",
              "2  Organic Search  20171016  ...                 nan                        nan\n",
              "3  Organic Search  20171016  ...                 nan                        nan\n",
              "4  Organic Search  20171016  ...                 nan                        nan\n",
              "\n",
              "[5 rows x 5 columns]"
            ]
          },
          "metadata": {
            "tags": []
          },
          "execution_count": 4
        }
      ]
    },
    {
      "cell_type": "markdown",
      "metadata": {
        "id": "vSLwAAiPAZuI",
        "colab_type": "text"
      },
      "source": [
        "Mas antes de aplicarmos o modelo utilizando a MAM, precisamos realizar alguns ajustes na base de dados. \n",
        "\n",
        "E analisando o .head() e o .info(), conseguimos observar que:\n",
        "\n",
        "- A coluna de data não está no formato datetime;\n",
        "- As colunas totals_transactions e totals_transactionRevenue possuem valores vazios;\n",
        "- fullVisitorId foi lido como objeto, temos que tomar cuidado para não ler essa informação como número, 001 pode ser um ID diferente de1; \n",
        "- A base não possui nenhum agrupamento de jornada;"
      ]
    },
    {
      "cell_type": "code",
      "metadata": {
        "id": "HizeMfsgzOML",
        "colab_type": "code",
        "outputId": "4692e258-7957-4c2d-9d30-06736f53159d",
        "colab": {
          "base_uri": "https://localhost:8080/",
          "height": 212
        }
      },
      "source": [
        "#Selecionando colunas necessárias\n",
        "df.info()"
      ],
      "execution_count": 0,
      "outputs": [
        {
          "output_type": "stream",
          "text": [
            "<class 'pandas.core.frame.DataFrame'>\n",
            "RangeIndex: 73948 entries, 0 to 73947\n",
            "Data columns (total 5 columns):\n",
            " #   Column                     Non-Null Count  Dtype  \n",
            "---  ------                     --------------  -----  \n",
            " 0   channelGrouping            73948 non-null  object \n",
            " 1   date                       73948 non-null  int64  \n",
            " 2   fullVisitorId              73948 non-null  object \n",
            " 3   totals_transactions        818 non-null    float64\n",
            " 4   totals_transactionRevenue  817 non-null    float64\n",
            "dtypes: float64(2), int64(1), object(2)\n",
            "memory usage: 2.8+ MB\n"
          ],
          "name": "stdout"
        }
      ]
    },
    {
      "cell_type": "markdown",
      "metadata": {
        "id": "eM8oC82IlEfz",
        "colab_type": "text"
      },
      "source": [
        "Assim, tratamos a coluna de data para o formato correto, tratamos os valores nulos e criamos uma coluna indicando se houve ou não uma conversão naquela sessão."
      ]
    },
    {
      "cell_type": "code",
      "metadata": {
        "id": "IgowOnl20_-s",
        "colab_type": "code",
        "outputId": "833ad7c2-3687-49ce-df52-7d3580330741",
        "colab": {
          "base_uri": "https://localhost:8080/",
          "height": 191
        }
      },
      "source": [
        "df['date_tratada']  = pd.to_datetime( df['date'], format='%Y%m%d' )\n",
        "df['totals_transactions'].fillna(0, inplace=True)\n",
        "df['totals_transactionRevenue'].fillna(0, inplace=True)\n",
        "df['has_transaction'] = df.totals_transactions.apply(lambda x: True if x > 0 else False)\n",
        "\n",
        "df.head()"
      ],
      "execution_count": 0,
      "outputs": [
        {
          "output_type": "execute_result",
          "data": {
            "text/html": [
              "<div>\n",
              "<style scoped>\n",
              "    .dataframe tbody tr th:only-of-type {\n",
              "        vertical-align: middle;\n",
              "    }\n",
              "\n",
              "    .dataframe tbody tr th {\n",
              "        vertical-align: top;\n",
              "    }\n",
              "\n",
              "    .dataframe thead th {\n",
              "        text-align: right;\n",
              "    }\n",
              "</style>\n",
              "<table border=\"1\" class=\"dataframe\">\n",
              "  <thead>\n",
              "    <tr style=\"text-align: right;\">\n",
              "      <th></th>\n",
              "      <th>channelGrouping</th>\n",
              "      <th>date</th>\n",
              "      <th>fullVisitorId</th>\n",
              "      <th>totals_transactions</th>\n",
              "      <th>totals_transactionRevenue</th>\n",
              "      <th>date_tratada</th>\n",
              "      <th>has_transaction</th>\n",
              "    </tr>\n",
              "  </thead>\n",
              "  <tbody>\n",
              "    <tr>\n",
              "      <th>0</th>\n",
              "      <td>Organic Search</td>\n",
              "      <td>20171016</td>\n",
              "      <td>579247845938461901</td>\n",
              "      <td>0.000</td>\n",
              "      <td>0.000</td>\n",
              "      <td>2017-10-16</td>\n",
              "      <td>False</td>\n",
              "    </tr>\n",
              "    <tr>\n",
              "      <th>1</th>\n",
              "      <td>Organic Search</td>\n",
              "      <td>20171016</td>\n",
              "      <td>875141984250977091</td>\n",
              "      <td>0.000</td>\n",
              "      <td>0.000</td>\n",
              "      <td>2017-10-16</td>\n",
              "      <td>False</td>\n",
              "    </tr>\n",
              "    <tr>\n",
              "      <th>2</th>\n",
              "      <td>Organic Search</td>\n",
              "      <td>20171016</td>\n",
              "      <td>953429090981710815</td>\n",
              "      <td>0.000</td>\n",
              "      <td>0.000</td>\n",
              "      <td>2017-10-16</td>\n",
              "      <td>False</td>\n",
              "    </tr>\n",
              "    <tr>\n",
              "      <th>3</th>\n",
              "      <td>Organic Search</td>\n",
              "      <td>20171016</td>\n",
              "      <td>2365540140634612791</td>\n",
              "      <td>0.000</td>\n",
              "      <td>0.000</td>\n",
              "      <td>2017-10-16</td>\n",
              "      <td>False</td>\n",
              "    </tr>\n",
              "    <tr>\n",
              "      <th>4</th>\n",
              "      <td>Organic Search</td>\n",
              "      <td>20171016</td>\n",
              "      <td>8585866264807101623</td>\n",
              "      <td>0.000</td>\n",
              "      <td>0.000</td>\n",
              "      <td>2017-10-16</td>\n",
              "      <td>False</td>\n",
              "    </tr>\n",
              "  </tbody>\n",
              "</table>\n",
              "</div>"
            ],
            "text/plain": [
              "  channelGrouping      date  ... date_tratada  has_transaction\n",
              "0  Organic Search  20171016  ...   2017-10-16            False\n",
              "1  Organic Search  20171016  ...   2017-10-16            False\n",
              "2  Organic Search  20171016  ...   2017-10-16            False\n",
              "3  Organic Search  20171016  ...   2017-10-16            False\n",
              "4  Organic Search  20171016  ...   2017-10-16            False\n",
              "\n",
              "[5 rows x 7 columns]"
            ]
          },
          "metadata": {
            "tags": []
          },
          "execution_count": 6
        }
      ]
    },
    {
      "cell_type": "markdown",
      "metadata": {
        "id": "uQZP8skv2LZV",
        "colab_type": "text"
      },
      "source": [
        "Agora que tratamos nossa base, podemos criar o nosso objeto MAM, como nossa base está na granularidade de sessão por usuário e não possuímos um ID de agrupamento de jornada, é importante que passamos como True os parametros group_channels e create_journey_id_based_on_conversion."
      ]
    },
    {
      "cell_type": "code",
      "metadata": {
        "id": "WXvVsowi2Qks",
        "colab_type": "code",
        "colab": {}
      },
      "source": [
        "DP_tribution = MAM(df, \n",
        "                  channels_colname='channelGrouping',\n",
        "                  group_channels=True, \n",
        "                  group_channels_by_id_list=['fullVisitorId'], \n",
        "                  group_timestamp_colname='date_tratada',\n",
        "                  journey_with_conv_colname='has_transaction',\n",
        "                  create_journey_id_based_on_conversion = True,\n",
        "                  conversion_value='totals_transactionRevenue')"
      ],
      "execution_count": 0,
      "outputs": []
    },
    {
      "cell_type": "markdown",
      "metadata": {
        "id": "Jad_s47WnmB-",
        "colab_type": "text"
      },
      "source": [
        "Acessando o atributo .DataFrame, conseguimos observar que houve uma mudança significativa em nossa base de dados. Observamos que a granularidade da tabela foi alterada de sessão para jornada e que há uma coluna nova de id da jornada."
      ]
    },
    {
      "cell_type": "code",
      "metadata": {
        "id": "SsvxcV0EAiYf",
        "colab_type": "code",
        "outputId": "8df93d34-95f2-44bd-8914-ff11de8b66f3",
        "colab": {
          "base_uri": "https://localhost:8080/",
          "height": 191
        }
      },
      "source": [
        "DP_tribution.DataFrame.sort_values('conversion_value', ascending=False).head()"
      ],
      "execution_count": 0,
      "outputs": [
        {
          "output_type": "execute_result",
          "data": {
            "text/html": [
              "<div>\n",
              "<style scoped>\n",
              "    .dataframe tbody tr th:only-of-type {\n",
              "        vertical-align: middle;\n",
              "    }\n",
              "\n",
              "    .dataframe tbody tr th {\n",
              "        vertical-align: top;\n",
              "    }\n",
              "\n",
              "    .dataframe thead th {\n",
              "        text-align: right;\n",
              "    }\n",
              "</style>\n",
              "<table border=\"1\" class=\"dataframe\">\n",
              "  <thead>\n",
              "    <tr style=\"text-align: right;\">\n",
              "      <th></th>\n",
              "      <th>journey_id</th>\n",
              "      <th>channels_agg</th>\n",
              "      <th>converted_agg</th>\n",
              "      <th>conversion_value</th>\n",
              "      <th>time_till_conv_agg</th>\n",
              "    </tr>\n",
              "  </thead>\n",
              "  <tbody>\n",
              "    <tr>\n",
              "      <th>12649</th>\n",
              "      <td>id:2969957690756250633_J:0</td>\n",
              "      <td>Organic Search &gt; Organic Search &gt; Organic Sear...</td>\n",
              "      <td>True</td>\n",
              "      <td>4198500000.000</td>\n",
              "      <td>72.0 &gt; 48.0 &gt; 24.0 &gt; 0.0</td>\n",
              "    </tr>\n",
              "    <tr>\n",
              "      <th>48276</th>\n",
              "      <td>id:8539433516671325668_J:0</td>\n",
              "      <td>Direct &gt; Direct &gt; Direct &gt; Direct &gt; Direct &gt; D...</td>\n",
              "      <td>True</td>\n",
              "      <td>2870000000.000</td>\n",
              "      <td>48.0 &gt; 48.0 &gt; 24.0 &gt; 24.0 &gt; 0.0 &gt; 0.0 &gt; 0.0</td>\n",
              "    </tr>\n",
              "    <tr>\n",
              "      <th>12230</th>\n",
              "      <td>id:2904329822175970539_J:4</td>\n",
              "      <td>Referral &gt; Referral &gt; Referral</td>\n",
              "      <td>True</td>\n",
              "      <td>2578500000.000</td>\n",
              "      <td>600.0 &gt; 288.0 &gt; 0.0</td>\n",
              "    </tr>\n",
              "    <tr>\n",
              "      <th>41360</th>\n",
              "      <td>id:7445235885559107095_J:3</td>\n",
              "      <td>Organic Search &gt; Organic Search &gt; Organic Sear...</td>\n",
              "      <td>True</td>\n",
              "      <td>2490000000.000</td>\n",
              "      <td>768.0 &gt; 408.0 &gt; 288.0 &gt; 264.0 &gt; 264.0 &gt; 96.0 &gt;...</td>\n",
              "    </tr>\n",
              "    <tr>\n",
              "      <th>26992</th>\n",
              "      <td>id:5183829074529712735_J:0</td>\n",
              "      <td>Direct &gt; Direct &gt; Direct</td>\n",
              "      <td>True</td>\n",
              "      <td>1919200000.000</td>\n",
              "      <td>0.0 &gt; 0.0 &gt; 0.0</td>\n",
              "    </tr>\n",
              "  </tbody>\n",
              "</table>\n",
              "</div>"
            ],
            "text/plain": [
              "                       journey_id  ...                                 time_till_conv_agg\n",
              "12649  id:2969957690756250633_J:0  ...                           72.0 > 48.0 > 24.0 > 0.0\n",
              "48276  id:8539433516671325668_J:0  ...        48.0 > 48.0 > 24.0 > 24.0 > 0.0 > 0.0 > 0.0\n",
              "12230  id:2904329822175970539_J:4  ...                                600.0 > 288.0 > 0.0\n",
              "41360  id:7445235885559107095_J:3  ...  768.0 > 408.0 > 288.0 > 264.0 > 264.0 > 96.0 >...\n",
              "26992  id:5183829074529712735_J:0  ...                                    0.0 > 0.0 > 0.0\n",
              "\n",
              "[5 rows x 5 columns]"
            ]
          },
          "metadata": {
            "tags": []
          },
          "execution_count": 10
        }
      ]
    },
    {
      "cell_type": "markdown",
      "metadata": {
        "id": "CwEldUXi1azw",
        "colab_type": "text"
      },
      "source": [
        "### Aplicando os Modelos"
      ]
    },
    {
      "cell_type": "markdown",
      "metadata": {
        "id": "pWJaeXGLoOLT",
        "colab_type": "text"
      },
      "source": [
        "Para rodar o modelo do Shapley Value, basta aplicar o método .attribution_shapley().\n",
        "\n",
        "O parâmetro **size limita quantidade de canais únicos na jornada**, por **padrão** é definido como os **4 últimos**. Isso ocorre pois o número de iterações aumenta exponencialmente com o número de canais. Da ordem de 2N, sendo N o número de canais.   \n",
        "\n",
        "A metodologia do cálculo das contribuições marginais pode variar através do **parâmetro order**, que por padrão calcula a contribuição da **combinação dos canais independende da ordem em que aparecem** nas diferentes jornadas.\n",
        "\n",
        "Por fim, parâmetro na qual o Shapley Value será calculado pode ser alterado em **values_col**, que por padrão utiliza a **taxa de conversão** que é uma forma de **considerarmos as não conversões no cálculo do modelo**. Contudo, também podemos considerar no cálculo o total de conversões ou o valor gerados pelas conversões, como demostrado abaixo. "
      ]
    },
    {
      "cell_type": "code",
      "metadata": {
        "id": "MIkMyKL0oOV7",
        "colab_type": "code",
        "colab": {}
      },
      "source": [
        "shapley_results = DP_tribution.attribution_shapley()"
      ],
      "execution_count": 0,
      "outputs": []
    },
    {
      "cell_type": "markdown",
      "metadata": {
        "id": "k8W3qV1yuVGJ",
        "colab_type": "text"
      },
      "source": [
        "O método retorna uma tupla contendo :\n",
        "- Os resultados agrupados por jornadas únicas;"
      ]
    },
    {
      "cell_type": "code",
      "metadata": {
        "id": "kac7Odr7uUbD",
        "colab_type": "code",
        "outputId": "000d13c7-0f62-4aa9-c04d-f726beb67df1",
        "colab": {
          "base_uri": "https://localhost:8080/",
          "height": 565
        }
      },
      "source": [
        "shapley_results[0]"
      ],
      "execution_count": 0,
      "outputs": [
        {
          "output_type": "execute_result",
          "data": {
            "text/html": [
              "<div>\n",
              "<style scoped>\n",
              "    .dataframe tbody tr th:only-of-type {\n",
              "        vertical-align: middle;\n",
              "    }\n",
              "\n",
              "    .dataframe tbody tr th {\n",
              "        vertical-align: top;\n",
              "    }\n",
              "\n",
              "    .dataframe thead th {\n",
              "        text-align: right;\n",
              "    }\n",
              "</style>\n",
              "<table border=\"1\" class=\"dataframe\">\n",
              "  <thead>\n",
              "    <tr style=\"text-align: right;\">\n",
              "      <th></th>\n",
              "      <th>combinations</th>\n",
              "      <th>conversions</th>\n",
              "      <th>total_sequences</th>\n",
              "      <th>conversion_value</th>\n",
              "      <th>conv_rate</th>\n",
              "      <th>attribution_shapley_size4_conv_rate_algorithmic</th>\n",
              "    </tr>\n",
              "  </thead>\n",
              "  <tbody>\n",
              "    <tr>\n",
              "      <th>16</th>\n",
              "      <td>Direct</td>\n",
              "      <td>157</td>\n",
              "      <td>8647</td>\n",
              "      <td>29708520000.000</td>\n",
              "      <td>0.018</td>\n",
              "      <td>[29708520000.0]</td>\n",
              "    </tr>\n",
              "    <tr>\n",
              "      <th>17</th>\n",
              "      <td>Direct &gt; Display</td>\n",
              "      <td>2</td>\n",
              "      <td>13</td>\n",
              "      <td>442590000.000</td>\n",
              "      <td>0.154</td>\n",
              "      <td>[243368413.16711098, 199221586.83288905]</td>\n",
              "    </tr>\n",
              "    <tr>\n",
              "      <th>18</th>\n",
              "      <td>Direct &gt; Display &gt; Organic Search</td>\n",
              "      <td>1</td>\n",
              "      <td>6</td>\n",
              "      <td>33980000.000</td>\n",
              "      <td>0.167</td>\n",
              "      <td>[15685297.311649714, 14457030.40197919, 383767...</td>\n",
              "    </tr>\n",
              "    <tr>\n",
              "      <th>21</th>\n",
              "      <td>Direct &gt; Organic Search</td>\n",
              "      <td>9</td>\n",
              "      <td>210</td>\n",
              "      <td>1812070000.000</td>\n",
              "      <td>0.043</td>\n",
              "      <td>[1086350193.20019, 725719806.79981]</td>\n",
              "    </tr>\n",
              "    <tr>\n",
              "      <th>24</th>\n",
              "      <td>Direct &gt; Organic Search &gt; Referral</td>\n",
              "      <td>3</td>\n",
              "      <td>28</td>\n",
              "      <td>1410520000.000</td>\n",
              "      <td>0.107</td>\n",
              "      <td>[334937900.0109693, 179302753.22538412, 896279...</td>\n",
              "    </tr>\n",
              "    <tr>\n",
              "      <th>28</th>\n",
              "      <td>Direct &gt; Referral</td>\n",
              "      <td>22</td>\n",
              "      <td>221</td>\n",
              "      <td>5895830000.000</td>\n",
              "      <td>0.100</td>\n",
              "      <td>[1653725008.2510033, 4242104991.7489963]</td>\n",
              "    </tr>\n",
              "    <tr>\n",
              "      <th>31</th>\n",
              "      <td>Display</td>\n",
              "      <td>4</td>\n",
              "      <td>1423</td>\n",
              "      <td>238200000.000</td>\n",
              "      <td>0.003</td>\n",
              "      <td>[238200000.0]</td>\n",
              "    </tr>\n",
              "    <tr>\n",
              "      <th>32</th>\n",
              "      <td>Display &gt; Organic Search</td>\n",
              "      <td>3</td>\n",
              "      <td>65</td>\n",
              "      <td>133890000.000</td>\n",
              "      <td>0.046</td>\n",
              "      <td>[57058012.82148681, 76831987.1785132]</td>\n",
              "    </tr>\n",
              "    <tr>\n",
              "      <th>35</th>\n",
              "      <td>Display &gt; Organic Search &gt; Referral</td>\n",
              "      <td>1</td>\n",
              "      <td>7</td>\n",
              "      <td>26400000.000</td>\n",
              "      <td>0.143</td>\n",
              "      <td>[7391834.050253105, 2623250.57365777, 16384915...</td>\n",
              "    </tr>\n",
              "    <tr>\n",
              "      <th>38</th>\n",
              "      <td>Display &gt; Referral</td>\n",
              "      <td>3</td>\n",
              "      <td>21</td>\n",
              "      <td>114210000.000</td>\n",
              "      <td>0.143</td>\n",
              "      <td>[33501108.56390939, 80708891.43609062]</td>\n",
              "    </tr>\n",
              "    <tr>\n",
              "      <th>39</th>\n",
              "      <td>Organic Search</td>\n",
              "      <td>240</td>\n",
              "      <td>24929</td>\n",
              "      <td>25418020000.000</td>\n",
              "      <td>0.010</td>\n",
              "      <td>[25418020000.0]</td>\n",
              "    </tr>\n",
              "    <tr>\n",
              "      <th>40</th>\n",
              "      <td>Organic Search &gt; Paid Search</td>\n",
              "      <td>9</td>\n",
              "      <td>255</td>\n",
              "      <td>282110000.000</td>\n",
              "      <td>0.035</td>\n",
              "      <td>[116152975.34855956, 165957024.6514404]</td>\n",
              "    </tr>\n",
              "    <tr>\n",
              "      <th>41</th>\n",
              "      <td>Organic Search &gt; Paid Search &gt; Referral</td>\n",
              "      <td>2</td>\n",
              "      <td>9</td>\n",
              "      <td>143490000.000</td>\n",
              "      <td>0.222</td>\n",
              "      <td>[25725024.54588916, 43524361.64828748, 7424061...</td>\n",
              "    </tr>\n",
              "    <tr>\n",
              "      <th>44</th>\n",
              "      <td>Organic Search &gt; Referral</td>\n",
              "      <td>32</td>\n",
              "      <td>379</td>\n",
              "      <td>3535040000.000</td>\n",
              "      <td>0.084</td>\n",
              "      <td>[674082087.187786, 2860957912.812214]</td>\n",
              "    </tr>\n",
              "    <tr>\n",
              "      <th>47</th>\n",
              "      <td>Paid Search</td>\n",
              "      <td>17</td>\n",
              "      <td>1072</td>\n",
              "      <td>2282920000.000</td>\n",
              "      <td>0.016</td>\n",
              "      <td>[2282920000.0]</td>\n",
              "    </tr>\n",
              "    <tr>\n",
              "      <th>48</th>\n",
              "      <td>Paid Search &gt; Referral</td>\n",
              "      <td>2</td>\n",
              "      <td>15</td>\n",
              "      <td>688870000.000</td>\n",
              "      <td>0.133</td>\n",
              "      <td>[225600785.96289113, 463269214.0371089]</td>\n",
              "    </tr>\n",
              "    <tr>\n",
              "      <th>50</th>\n",
              "      <td>Referral</td>\n",
              "      <td>308</td>\n",
              "      <td>4979</td>\n",
              "      <td>40676950000.000</td>\n",
              "      <td>0.062</td>\n",
              "      <td>[40676950000.0]</td>\n",
              "    </tr>\n",
              "    <tr>\n",
              "      <th>52</th>\n",
              "      <td>Social</td>\n",
              "      <td>3</td>\n",
              "      <td>14025</td>\n",
              "      <td>61080000.000</td>\n",
              "      <td>0.000</td>\n",
              "      <td>[61080000.0]</td>\n",
              "    </tr>\n",
              "  </tbody>\n",
              "</table>\n",
              "</div>"
            ],
            "text/plain": [
              "                               combinations  ...    attribution_shapley_size4_conv_rate_algorithmic\n",
              "16                                   Direct  ...                                    [29708520000.0]\n",
              "17                         Direct > Display  ...           [243368413.16711098, 199221586.83288905]\n",
              "18        Direct > Display > Organic Search  ...  [15685297.311649714, 14457030.40197919, 383767...\n",
              "21                  Direct > Organic Search  ...                [1086350193.20019, 725719806.79981]\n",
              "24       Direct > Organic Search > Referral  ...  [334937900.0109693, 179302753.22538412, 896279...\n",
              "28                        Direct > Referral  ...           [1653725008.2510033, 4242104991.7489963]\n",
              "31                                  Display  ...                                      [238200000.0]\n",
              "32                 Display > Organic Search  ...              [57058012.82148681, 76831987.1785132]\n",
              "35      Display > Organic Search > Referral  ...  [7391834.050253105, 2623250.57365777, 16384915...\n",
              "38                       Display > Referral  ...             [33501108.56390939, 80708891.43609062]\n",
              "39                           Organic Search  ...                                    [25418020000.0]\n",
              "40             Organic Search > Paid Search  ...            [116152975.34855956, 165957024.6514404]\n",
              "41  Organic Search > Paid Search > Referral  ...  [25725024.54588916, 43524361.64828748, 7424061...\n",
              "44                Organic Search > Referral  ...              [674082087.187786, 2860957912.812214]\n",
              "47                              Paid Search  ...                                     [2282920000.0]\n",
              "48                   Paid Search > Referral  ...            [225600785.96289113, 463269214.0371089]\n",
              "50                                 Referral  ...                                    [40676950000.0]\n",
              "52                                   Social  ...                                       [61080000.0]\n",
              "\n",
              "[18 rows x 6 columns]"
            ]
          },
          "metadata": {
            "tags": []
          },
          "execution_count": 12
        }
      ]
    },
    {
      "cell_type": "markdown",
      "metadata": {
        "id": "NvPNwnLruvUM",
        "colab_type": "text"
      },
      "source": [
        "- E os resultados agrupados por canais:"
      ]
    },
    {
      "cell_type": "code",
      "metadata": {
        "id": "si7ZVp1Suym8",
        "colab_type": "code",
        "outputId": "2e77230c-761d-4640-e583-f5f737ceb445",
        "colab": {
          "base_uri": "https://localhost:8080/",
          "height": 220
        }
      },
      "source": [
        "shapley_results[1].reset_index()"
      ],
      "execution_count": 0,
      "outputs": [
        {
          "output_type": "execute_result",
          "data": {
            "text/html": [
              "<div>\n",
              "<style scoped>\n",
              "    .dataframe tbody tr th:only-of-type {\n",
              "        vertical-align: middle;\n",
              "    }\n",
              "\n",
              "    .dataframe tbody tr th {\n",
              "        vertical-align: top;\n",
              "    }\n",
              "\n",
              "    .dataframe thead th {\n",
              "        text-align: right;\n",
              "    }\n",
              "</style>\n",
              "<table border=\"1\" class=\"dataframe\">\n",
              "  <thead>\n",
              "    <tr style=\"text-align: right;\">\n",
              "      <th></th>\n",
              "      <th>channels</th>\n",
              "      <th>value</th>\n",
              "    </tr>\n",
              "  </thead>\n",
              "  <tbody>\n",
              "    <tr>\n",
              "      <th>0</th>\n",
              "      <td>Direct</td>\n",
              "      <td>33042586811.941</td>\n",
              "    </tr>\n",
              "    <tr>\n",
              "      <th>1</th>\n",
              "      <td>Display</td>\n",
              "      <td>549829572.671</td>\n",
              "    </tr>\n",
              "    <tr>\n",
              "      <th>2</th>\n",
              "      <td>Organic Search</td>\n",
              "      <td>27222295557.146</td>\n",
              "    </tr>\n",
              "    <tr>\n",
              "      <th>3</th>\n",
              "      <td>Paid Search</td>\n",
              "      <td>2718002172.263</td>\n",
              "    </tr>\n",
              "    <tr>\n",
              "      <th>4</th>\n",
              "      <td>Referral</td>\n",
              "      <td>49310895885.980</td>\n",
              "    </tr>\n",
              "    <tr>\n",
              "      <th>5</th>\n",
              "      <td>Social</td>\n",
              "      <td>61080000.000</td>\n",
              "    </tr>\n",
              "  </tbody>\n",
              "</table>\n",
              "</div>"
            ],
            "text/plain": [
              "         channels           value\n",
              "0          Direct 33042586811.941\n",
              "1         Display   549829572.671\n",
              "2  Organic Search 27222295557.146\n",
              "3     Paid Search  2718002172.263\n",
              "4        Referral 49310895885.980\n",
              "5          Social    61080000.000"
            ]
          },
          "metadata": {
            "tags": []
          },
          "execution_count": 19
        }
      ]
    },
    {
      "cell_type": "markdown",
      "metadata": {
        "id": "PrQ1YpP52Qps",
        "colab_type": "text"
      },
      "source": [
        "Para rodar o modelo das **Cadeias de Markov**, basta aplicar o método .attribution_markov().\n",
        "\n",
        "No parâmetro de entrada transition_to_same_state, indica se irá ser retornado ou não a probabilidade de transição para o mesmo estado. Essa configuração **não afeta os resultados agregados** e que são atribuídos para cada canal, **mas sim os valores observados na matriz de transição**."
      ]
    },
    {
      "cell_type": "code",
      "metadata": {
        "id": "x08p7andppU9",
        "colab_type": "code",
        "colab": {}
      },
      "source": [
        "markov_results = DP_tribution.attribution_markov(transition_to_same_state=False)"
      ],
      "execution_count": 0,
      "outputs": []
    },
    {
      "cell_type": "markdown",
      "metadata": {
        "id": "j8rJ5iGJ30vU",
        "colab_type": "text"
      },
      "source": [
        "O método retorna uma tupla contendo :\n",
        "- Os resultados em nível de jornada, que também pode ser obeservado acessando o .DataFrame. "
      ]
    },
    {
      "cell_type": "code",
      "metadata": {
        "id": "7pw-1ZQP31MM",
        "colab_type": "code",
        "outputId": "cc9cd82d-ab25-4c98-c5d3-59be866528e9",
        "colab": {
          "base_uri": "https://localhost:8080/",
          "height": 115
        }
      },
      "source": [
        "markov_results[0].head()"
      ],
      "execution_count": 0,
      "outputs": [
        {
          "output_type": "execute_result",
          "data": {
            "text/plain": [
              "0    [1.0]\n",
              "1    [1.0]\n",
              "2    [1.0]\n",
              "3    [1.0]\n",
              "4    [1.0]\n",
              "Name: channelGrouping, dtype: object"
            ]
          },
          "metadata": {
            "tags": []
          },
          "execution_count": 17
        }
      ]
    },
    {
      "cell_type": "markdown",
      "metadata": {
        "id": "VxPtJj2V4unf",
        "colab_type": "text"
      },
      "source": [
        "- E os resultados agrupados por canais, como retornado pelo modelo Shapley acima;"
      ]
    },
    {
      "cell_type": "code",
      "metadata": {
        "id": "U9r0nB1v4J-N",
        "colab_type": "code",
        "outputId": "a4236df5-b056-4123-c396-2a5993e5d1c6",
        "colab": {
          "base_uri": "https://localhost:8080/",
          "height": 277
        }
      },
      "source": [
        "markov_results[1]"
      ],
      "execution_count": 0,
      "outputs": [
        {
          "output_type": "execute_result",
          "data": {
            "text/html": [
              "<div>\n",
              "<style scoped>\n",
              "    .dataframe tbody tr th:only-of-type {\n",
              "        vertical-align: middle;\n",
              "    }\n",
              "\n",
              "    .dataframe tbody tr th {\n",
              "        vertical-align: top;\n",
              "    }\n",
              "\n",
              "    .dataframe thead th {\n",
              "        text-align: right;\n",
              "    }\n",
              "</style>\n",
              "<table border=\"1\" class=\"dataframe\">\n",
              "  <thead>\n",
              "    <tr style=\"text-align: right;\">\n",
              "      <th></th>\n",
              "      <th>channels</th>\n",
              "      <th>attribution_markov_algorithmic</th>\n",
              "    </tr>\n",
              "  </thead>\n",
              "  <tbody>\n",
              "    <tr>\n",
              "      <th>0</th>\n",
              "      <td>Display</td>\n",
              "      <td>859295618.089</td>\n",
              "    </tr>\n",
              "    <tr>\n",
              "      <th>1</th>\n",
              "      <td>Affiliates</td>\n",
              "      <td>0.000</td>\n",
              "    </tr>\n",
              "    <tr>\n",
              "      <th>2</th>\n",
              "      <td>(Other)</td>\n",
              "      <td>0.000</td>\n",
              "    </tr>\n",
              "    <tr>\n",
              "      <th>3</th>\n",
              "      <td>Organic Search</td>\n",
              "      <td>29002939438.611</td>\n",
              "    </tr>\n",
              "    <tr>\n",
              "      <th>4</th>\n",
              "      <td>Referral</td>\n",
              "      <td>46028648315.510</td>\n",
              "    </tr>\n",
              "    <tr>\n",
              "      <th>5</th>\n",
              "      <td>Social</td>\n",
              "      <td>52278245.740</td>\n",
              "    </tr>\n",
              "    <tr>\n",
              "      <th>6</th>\n",
              "      <td>Direct</td>\n",
              "      <td>33804951171.975</td>\n",
              "    </tr>\n",
              "    <tr>\n",
              "      <th>7</th>\n",
              "      <td>Paid Search</td>\n",
              "      <td>3156577210.076</td>\n",
              "    </tr>\n",
              "  </tbody>\n",
              "</table>\n",
              "</div>"
            ],
            "text/plain": [
              "         channels  attribution_markov_algorithmic\n",
              "0         Display                   859295618.089\n",
              "1      Affiliates                           0.000\n",
              "2         (Other)                           0.000\n",
              "3  Organic Search                 29002939438.611\n",
              "4        Referral                 46028648315.510\n",
              "5          Social                    52278245.740\n",
              "6          Direct                 33804951171.975\n",
              "7     Paid Search                  3156577210.076"
            ]
          },
          "metadata": {
            "tags": []
          },
          "execution_count": 18
        }
      ]
    },
    {
      "cell_type": "markdown",
      "metadata": {
        "id": "Dy66fGh_2ZUt",
        "colab_type": "text"
      },
      "source": [
        "- Matrix de transição:"
      ]
    },
    {
      "cell_type": "code",
      "metadata": {
        "id": "mNrja1mO2Zc8",
        "colab_type": "code",
        "colab": {}
      },
      "source": [
        "ax, fig = plt.subplots(figsize=(15,10))\n",
        "sns.heatmap(markov_results[2].round(3), cmap=\"YlGnBu\", annot=True, linewidths=.5)"
      ],
      "execution_count": 0,
      "outputs": []
    },
    {
      "cell_type": "markdown",
      "metadata": {
        "id": "b0LlWef949Rm",
        "colab_type": "text"
      },
      "source": [
        "- **Removal Effect**, quarto output dos resultados attribution_markov, que como detalhado anteriormente, nos auxilia a entender a impertância de cada canal analisado:"
      ]
    },
    {
      "cell_type": "code",
      "metadata": {
        "id": "1dPyfO8K49YP",
        "colab_type": "code",
        "outputId": "74562fda-6cf6-4dfa-e449-d6af7a600ea1",
        "colab": {
          "base_uri": "https://localhost:8080/",
          "height": 332
        }
      },
      "source": [
        "ax, fig = plt.subplots(figsize=(2,5))\n",
        "sns.heatmap(markov_results[3].round(3), cmap=\"YlGnBu\", annot=True, linewidths=.5)"
      ],
      "execution_count": 0,
      "outputs": [
        {
          "output_type": "execute_result",
          "data": {
            "text/plain": [
              "<matplotlib.axes._subplots.AxesSubplot at 0x7f2218cdc6d8>"
            ]
          },
          "metadata": {
            "tags": []
          },
          "execution_count": 22
        },
        {
          "output_type": "display_data",
          "data": {
            "image/png": "[encoded data removed]",
            "text/plain": [
              "<Figure size 144x360 with 2 Axes>"
            ]
          },
          "metadata": {
            "tags": []
          }
        }
      ]
    },
    {
      "cell_type": "markdown",
      "metadata": {
        "id": "0pvB6Nr3s7QY",
        "colab_type": "text"
      },
      "source": [
        "#### Comparando os Resultados\n",
        "\n",
        "Agora que rodamos ambos os modelos, podemos comparar seus resultados acessando o atributo group_by_channels_models, que retorna todos os diferentes modelos aplicados nos passos anteriores."
      ]
    },
    {
      "cell_type": "code",
      "metadata": {
        "id": "8UFrFSzus-dU",
        "colab_type": "code",
        "outputId": "18b66eec-2eeb-4e1e-ccaf-53193447a10c",
        "colab": {
          "base_uri": "https://localhost:8080/",
          "height": 220
        }
      },
      "source": [
        "DP_tribution.group_by_channels_models"
      ],
      "execution_count": 0,
      "outputs": [
        {
          "output_type": "execute_result",
          "data": {
            "text/html": [
              "<div>\n",
              "<style scoped>\n",
              "    .dataframe tbody tr th:only-of-type {\n",
              "        vertical-align: middle;\n",
              "    }\n",
              "\n",
              "    .dataframe tbody tr th {\n",
              "        vertical-align: top;\n",
              "    }\n",
              "\n",
              "    .dataframe thead th {\n",
              "        text-align: right;\n",
              "    }\n",
              "</style>\n",
              "<table border=\"1\" class=\"dataframe\">\n",
              "  <thead>\n",
              "    <tr style=\"text-align: right;\">\n",
              "      <th></th>\n",
              "      <th>channels</th>\n",
              "      <th>attribution_shapley_size4_conv_rate_algorithmic</th>\n",
              "    </tr>\n",
              "  </thead>\n",
              "  <tbody>\n",
              "    <tr>\n",
              "      <th>0</th>\n",
              "      <td>Direct</td>\n",
              "      <td>31496838188.688</td>\n",
              "    </tr>\n",
              "    <tr>\n",
              "      <th>1</th>\n",
              "      <td>Display</td>\n",
              "      <td>687694045.990</td>\n",
              "    </tr>\n",
              "    <tr>\n",
              "      <th>2</th>\n",
              "      <td>Organic Search</td>\n",
              "      <td>27527663233.955</td>\n",
              "    </tr>\n",
              "    <tr>\n",
              "      <th>3</th>\n",
              "      <td>Paid Search</td>\n",
              "      <td>2830265750.282</td>\n",
              "    </tr>\n",
              "    <tr>\n",
              "      <th>4</th>\n",
              "      <td>Referral</td>\n",
              "      <td>50301148781.086</td>\n",
              "    </tr>\n",
              "    <tr>\n",
              "      <th>5</th>\n",
              "      <td>Social</td>\n",
              "      <td>61080000.000</td>\n",
              "    </tr>\n",
              "  </tbody>\n",
              "</table>\n",
              "</div>"
            ],
            "text/plain": [
              "         channels  attribution_shapley_size4_conv_rate_algorithmic\n",
              "0          Direct                                  31496838188.688\n",
              "1         Display                                    687694045.990\n",
              "2  Organic Search                                  27527663233.955\n",
              "3     Paid Search                                   2830265750.282\n",
              "4        Referral                                  50301148781.086\n",
              "5          Social                                     61080000.000"
            ]
          },
          "metadata": {
            "tags": []
          },
          "execution_count": 89
        }
      ]
    },
    {
      "cell_type": "code",
      "metadata": {
        "id": "Zq09OuvVqSvO",
        "colab_type": "code",
        "outputId": "7b273763-b0e4-4434-a09d-d5dac9204a85",
        "colab": {
          "base_uri": "https://localhost:8080/",
          "height": 82
        }
      },
      "source": [
        "DP_tribution.group_by_channels_models.sum()"
      ],
      "execution_count": 0,
      "outputs": [
        {
          "output_type": "execute_result",
          "data": {
            "text/plain": [
              "channels                                           DirectDisplayOrganic SearchPaid SearchReferral...\n",
              "attribution_shapley_size4_conv_rate_algorithmic                                          1.12905e+11\n",
              "attribution_markov_algorithmic                                                           1.12905e+11\n",
              "dtype: object"
            ]
          },
          "metadata": {
            "tags": []
          },
          "execution_count": 78
        }
      ]
    },
    {
      "cell_type": "code",
      "metadata": {
        "id": "CJHui3UDptrc",
        "colab_type": "code",
        "outputId": "77071961-5601-40ee-ee2d-f37654fa3768",
        "colab": {
          "base_uri": "https://localhost:8080/",
          "height": 483
        }
      },
      "source": [
        " DP_tribution.plot()"
      ],
      "execution_count": 0,
      "outputs": [
        {
          "output_type": "execute_result",
          "data": {
            "text/plain": [
              "<matplotlib.axes._subplots.AxesSubplot at 0x7fbda63366a0>"
            ]
          },
          "metadata": {
            "tags": []
          },
          "execution_count": 73
        },
        {
          "output_type": "display_data",
          "data": {
            "image/png": "[encoded data removed]",
            "text/plain": [
              "<Figure size 1440x504 with 1 Axes>"
            ]
          },
          "metadata": {
            "tags": [],
            "needs_background": "light"
          }
        }
      ]
    }
  ]
}